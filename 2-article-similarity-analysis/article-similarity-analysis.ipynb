{
 "cells": [
  {
   "cell_type": "code",
   "execution_count": 59,
   "metadata": {},
   "outputs": [],
   "source": [
    "import pandas as pd\n",
    "import nltk\n",
    "import numpy as np\n",
    "from sklearn.feature_extraction.text import TfidfVectorizer"
   ]
  },
  {
   "cell_type": "markdown",
   "metadata": {},
   "source": [
    "## Análise e cálculo de similaridades de artigos a partir do algoritmo K-NN\n",
    "Utilizaremos três abordagens:\n",
    "* Utilizar os títulos dos artigos como entrada, e para a realização do cálculo de similaridades relativas a outros títulos\n",
    "* Utilizar os títulos dos artigos como entrada, e para a realização do cálculo de similaridades relativas a outros textos (conteúdo do artigo)\n",
    "* Utilizar os textos tanto para a entrada quanto para o cálculo de similaridades relativas a outros textos\n",
    "  \n",
    "Ao fim desse notebook, responderemos as seguintes perguntas:\n",
    "\n",
    "1. Os vizinhos são os mesmos em todos os casos?\n",
    "\n",
    "2. Se não, quais foram diferentes? \n",
    "\n",
    "3. Olhando a sátira de entrada, qual das configurações acima (1,2 ou 3) você acha que trouxe os melhores vizinhos e por quê?\n",
    "\n",
    "4. Nos casos que houve diferença, por que você acha que isso aconteceu?"
   ]
  },
  {
   "cell_type": "markdown",
   "metadata": {},
   "source": [
    "### K-NN: títulos como entrada e para cálculo de similaridades"
   ]
  },
  {
   "cell_type": "code",
   "execution_count": 60,
   "metadata": {
    "scrolled": false
   },
   "outputs": [
    {
     "data": {
      "text/html": [
       "<div>\n",
       "<style scoped>\n",
       "    .dataframe tbody tr th:only-of-type {\n",
       "        vertical-align: middle;\n",
       "    }\n",
       "\n",
       "    .dataframe tbody tr th {\n",
       "        vertical-align: top;\n",
       "    }\n",
       "\n",
       "    .dataframe thead th {\n",
       "        text-align: right;\n",
       "    }\n",
       "</style>\n",
       "<table border=\"1\" class=\"dataframe\">\n",
       "  <thead>\n",
       "    <tr style=\"text-align: right;\">\n",
       "      <th></th>\n",
       "      <th>title</th>\n",
       "      <th>text</th>\n",
       "      <th>label</th>\n",
       "    </tr>\n",
       "  </thead>\n",
       "  <tbody>\n",
       "    <tr>\n",
       "      <th>0</th>\n",
       "      <td>crise e tao grande que nem tiozao do pave fez piada na noite de natal</td>\n",
       "      <td>a familia guimaraes passou a noite de natal perplexa.  genival o tiozao do pave deles desde 1985...</td>\n",
       "      <td>satire</td>\n",
       "    </tr>\n",
       "    <tr>\n",
       "      <th>1</th>\n",
       "      <td>nao me representam diz jesus sobre intolerantes que apedrejaram crianca que saia do candomble</td>\n",
       "      <td>uma menina de 11 anos apedrejada ao sair de uma festa de candomble no ultimo domingo no rio de j...</td>\n",
       "      <td>satire</td>\n",
       "    </tr>\n",
       "    <tr>\n",
       "      <th>2</th>\n",
       "      <td>marina silva e heloisa helena montam novo partido o partido esquerdista da republica unida p. e...</td>\n",
       "      <td>insatisfeitas com seus partidos com as siglas dos partidos com os politicos com as tardes ensola...</td>\n",
       "      <td>satire</td>\n",
       "    </tr>\n",
       "    <tr>\n",
       "      <th>3</th>\n",
       "      <td>dez propostas que podem realmente mudar o brasil</td>\n",
       "      <td>o instituto nupal nucleo de pesquisas da america latina fez uma pesquisa que mostrou ideias que ...</td>\n",
       "      <td>satire</td>\n",
       "    </tr>\n",
       "    <tr>\n",
       "      <th>4</th>\n",
       "      <td>apresentadora do cidade alerta bahia dara curso de como ser otimista e feliz</td>\n",
       "      <td>assassinatos sequestros mortes violentas.  nenhuma noticia parece abalar a apresentadora do cida...</td>\n",
       "      <td>satire</td>\n",
       "    </tr>\n",
       "    <tr>\n",
       "      <th>5</th>\n",
       "      <td>onu aponta brasil como pioneiro no combate ao futuro</td>\n",
       "      <td>no dia do trabalhador uma noticia especial para os brasileiros a organizacao das nacoes unidas o...</td>\n",
       "      <td>satire</td>\n",
       "    </tr>\n",
       "    <tr>\n",
       "      <th>6</th>\n",
       "      <td>se quem pergunta por que o povo nao esta na rua fosse para a rua elas estariam cheias diz espec...</td>\n",
       "      <td>por que o povo nao esta nas ruas como e que depois de tudo que vem acontecendo esta todo mundo t...</td>\n",
       "      <td>satire</td>\n",
       "    </tr>\n",
       "    <tr>\n",
       "      <th>7</th>\n",
       "      <td>iemanja revela que nao tem mais onde guardar barquinhos e pede criatividade dos devotos</td>\n",
       "      <td>iemanja esta preocupada com a proximidade do ano novo.  segundo ela nem o oceano inteiro esta se...</td>\n",
       "      <td>satire</td>\n",
       "    </tr>\n",
       "    <tr>\n",
       "      <th>8</th>\n",
       "      <td>em universidade alunos perseguem professores de matematica usando video policial como justifica...</td>\n",
       "      <td>apos o caso de perseguicao e morte do traficante matematico que vem repercutido muito na televis...</td>\n",
       "      <td>satire</td>\n",
       "    </tr>\n",
       "    <tr>\n",
       "      <th>9</th>\n",
       "      <td>chefe de milicia vaidoso cria um monumento em sua homenagem</td>\n",
       "      <td>o lider da milicia de rio das pedras alessandro assuncao conhecido como xerife ergueu uma estatu...</td>\n",
       "      <td>satire</td>\n",
       "    </tr>\n",
       "    <tr>\n",
       "      <th>10</th>\n",
       "      <td>lula e visto comprando mascara de eduardo cunha para usar no stf para ver se me liberam</td>\n",
       "      <td>o expresidente lula foi visto hoje comprando uma mascara do presidente da camara eduardo cunha p...</td>\n",
       "      <td>satire</td>\n",
       "    </tr>\n",
       "    <tr>\n",
       "      <th>11</th>\n",
       "      <td>guilherme fontes fara documentario sobre cassacao de cunha</td>\n",
       "      <td>depois de finalmente concluir chato o rei do brasil o ator e diretor guilherme fontes ja tem um ...</td>\n",
       "      <td>satire</td>\n",
       "    </tr>\n",
       "    <tr>\n",
       "      <th>12</th>\n",
       "      <td>aecio se solidariza com miss colombia sei como e ganhar por pouco tempo</td>\n",
       "      <td>o senador aecio neves que namorou a miss brasil natalia guimaraes usou as redes sociais hoje par...</td>\n",
       "      <td>satire</td>\n",
       "    </tr>\n",
       "    <tr>\n",
       "      <th>13</th>\n",
       "      <td>esse ano passou voando foi frase mais falada em novembro aponta estudo</td>\n",
       "      <td>o nucleo de pesquisas da america latina nupal entrevistou 372 milhoes de pessoas em territorio b...</td>\n",
       "      <td>satire</td>\n",
       "    </tr>\n",
       "    <tr>\n",
       "      <th>14</th>\n",
       "      <td>mundo acorda na tercafeira e descobre que ontem nao foi um pesadelo</td>\n",
       "      <td>o mundo acordou hoje um pouco atrasado depois de dormir um sono leve e inquieto nesta madrugada ...</td>\n",
       "      <td>satire</td>\n",
       "    </tr>\n",
       "    <tr>\n",
       "      <th>15</th>\n",
       "      <td>lula diz que nunca na historia desse pais um expresidente foi tao indiciado</td>\n",
       "      <td>mais uma vez indiciado agora pelo triplex que garante nao ser seu.  o expresidente lula manteve ...</td>\n",
       "      <td>satire</td>\n",
       "    </tr>\n",
       "    <tr>\n",
       "      <th>16</th>\n",
       "      <td>impossibilitado de ser ministro pela justica moreira se filia ao psdb para escapar da lava jato</td>\n",
       "      <td>a justica suspendeu por liminar a nomeacao de moreira franco ministro.  o cargo lhe dava foro es...</td>\n",
       "      <td>satire</td>\n",
       "    </tr>\n",
       "    <tr>\n",
       "      <th>17</th>\n",
       "      <td>mpf diz que organizadores da olimpiada usaram anabolizantes na propina</td>\n",
       "      <td>a policia federal executou hoje mais uma acao da lava jato no rio de janeiro.  chamada unfair pl...</td>\n",
       "      <td>satire</td>\n",
       "    </tr>\n",
       "    <tr>\n",
       "      <th>18</th>\n",
       "      <td>vendedoras de ca e leader aprendem olhar de caes para conseguir vender cartao da loja</td>\n",
       "      <td>um curso bastante inusitado esta sendo feito por grupos de funcionarias de grandes magazines com...</td>\n",
       "      <td>satire</td>\n",
       "    </tr>\n",
       "    <tr>\n",
       "      <th>19</th>\n",
       "      <td>apos decadas em coma homem ve mad max e collor na cpi e acha dormiu alguns dias</td>\n",
       "      <td>carlos alberto antunes estava em coma havia decadas nem mesmo a familia sabia precisar desde qua...</td>\n",
       "      <td>satire</td>\n",
       "    </tr>\n",
       "  </tbody>\n",
       "</table>\n",
       "</div>"
      ],
      "text/plain": [
       "                                                                                                  title  \\\n",
       "0                                 crise e tao grande que nem tiozao do pave fez piada na noite de natal   \n",
       "1         nao me representam diz jesus sobre intolerantes que apedrejaram crianca que saia do candomble   \n",
       "2    marina silva e heloisa helena montam novo partido o partido esquerdista da republica unida p. e...   \n",
       "3                                                      dez propostas que podem realmente mudar o brasil   \n",
       "4                          apresentadora do cidade alerta bahia dara curso de como ser otimista e feliz   \n",
       "5                                                  onu aponta brasil como pioneiro no combate ao futuro   \n",
       "6    se quem pergunta por que o povo nao esta na rua fosse para a rua elas estariam cheias diz espec...   \n",
       "7               iemanja revela que nao tem mais onde guardar barquinhos e pede criatividade dos devotos   \n",
       "8    em universidade alunos perseguem professores de matematica usando video policial como justifica...   \n",
       "9                                           chefe de milicia vaidoso cria um monumento em sua homenagem   \n",
       "10              lula e visto comprando mascara de eduardo cunha para usar no stf para ver se me liberam   \n",
       "11                                           guilherme fontes fara documentario sobre cassacao de cunha   \n",
       "12                              aecio se solidariza com miss colombia sei como e ganhar por pouco tempo   \n",
       "13                               esse ano passou voando foi frase mais falada em novembro aponta estudo   \n",
       "14                                  mundo acorda na tercafeira e descobre que ontem nao foi um pesadelo   \n",
       "15                          lula diz que nunca na historia desse pais um expresidente foi tao indiciado   \n",
       "16      impossibilitado de ser ministro pela justica moreira se filia ao psdb para escapar da lava jato   \n",
       "17                               mpf diz que organizadores da olimpiada usaram anabolizantes na propina   \n",
       "18                vendedoras de ca e leader aprendem olhar de caes para conseguir vender cartao da loja   \n",
       "19                      apos decadas em coma homem ve mad max e collor na cpi e acha dormiu alguns dias   \n",
       "\n",
       "                                                                                                   text  \\\n",
       "0   a familia guimaraes passou a noite de natal perplexa.  genival o tiozao do pave deles desde 1985...   \n",
       "1   uma menina de 11 anos apedrejada ao sair de uma festa de candomble no ultimo domingo no rio de j...   \n",
       "2   insatisfeitas com seus partidos com as siglas dos partidos com os politicos com as tardes ensola...   \n",
       "3   o instituto nupal nucleo de pesquisas da america latina fez uma pesquisa que mostrou ideias que ...   \n",
       "4   assassinatos sequestros mortes violentas.  nenhuma noticia parece abalar a apresentadora do cida...   \n",
       "5   no dia do trabalhador uma noticia especial para os brasileiros a organizacao das nacoes unidas o...   \n",
       "6   por que o povo nao esta nas ruas como e que depois de tudo que vem acontecendo esta todo mundo t...   \n",
       "7   iemanja esta preocupada com a proximidade do ano novo.  segundo ela nem o oceano inteiro esta se...   \n",
       "8   apos o caso de perseguicao e morte do traficante matematico que vem repercutido muito na televis...   \n",
       "9   o lider da milicia de rio das pedras alessandro assuncao conhecido como xerife ergueu uma estatu...   \n",
       "10  o expresidente lula foi visto hoje comprando uma mascara do presidente da camara eduardo cunha p...   \n",
       "11  depois de finalmente concluir chato o rei do brasil o ator e diretor guilherme fontes ja tem um ...   \n",
       "12  o senador aecio neves que namorou a miss brasil natalia guimaraes usou as redes sociais hoje par...   \n",
       "13  o nucleo de pesquisas da america latina nupal entrevistou 372 milhoes de pessoas em territorio b...   \n",
       "14  o mundo acordou hoje um pouco atrasado depois de dormir um sono leve e inquieto nesta madrugada ...   \n",
       "15  mais uma vez indiciado agora pelo triplex que garante nao ser seu.  o expresidente lula manteve ...   \n",
       "16  a justica suspendeu por liminar a nomeacao de moreira franco ministro.  o cargo lhe dava foro es...   \n",
       "17  a policia federal executou hoje mais uma acao da lava jato no rio de janeiro.  chamada unfair pl...   \n",
       "18  um curso bastante inusitado esta sendo feito por grupos de funcionarias de grandes magazines com...   \n",
       "19  carlos alberto antunes estava em coma havia decadas nem mesmo a familia sabia precisar desde qua...   \n",
       "\n",
       "     label  \n",
       "0   satire  \n",
       "1   satire  \n",
       "2   satire  \n",
       "3   satire  \n",
       "4   satire  \n",
       "5   satire  \n",
       "6   satire  \n",
       "7   satire  \n",
       "8   satire  \n",
       "9   satire  \n",
       "10  satire  \n",
       "11  satire  \n",
       "12  satire  \n",
       "13  satire  \n",
       "14  satire  \n",
       "15  satire  \n",
       "16  satire  \n",
       "17  satire  \n",
       "18  satire  \n",
       "19  satire  "
      ]
     },
     "execution_count": 60,
     "metadata": {},
     "output_type": "execute_result"
    }
   ],
   "source": [
    "df = pd.read_csv(\"https://raw.githubusercontent.com/caiolibanio/atividade_NLP/master/csv_satiras_politicas.csv\")\n",
    "df.head(20)"
   ]
  },
  {
   "cell_type": "code",
   "execution_count": 61,
   "metadata": {},
   "outputs": [
    {
     "name": "stdout",
     "output_type": "stream",
     "text": [
      " chefe de milicia vaidoso cria um monumento em sua homenagem;\n",
      " cego agradece a deus por nao poder ver outdoor contra privilegios para deficientes;\n",
      " tristeza no orgulho hetero cancer de prostata podera ser detectado com exame de urina\n"
     ]
    }
   ],
   "source": [
    "# Os títulos escolhidos são os seguintes:\n",
    "\n",
    "index1 = 9\n",
    "index2 = 101\n",
    "index3 = 63\n",
    "\n",
    "print(\"{df1_title1};\\n{df1_title2};\\n{df1_title3}\".format(df1_title1 = df.iloc[index1].title, df1_title2 = df.iloc[index2].title, df1_title3 = df.iloc[index3].title))"
   ]
  },
  {
   "cell_type": "code",
   "execution_count": 62,
   "metadata": {},
   "outputs": [
    {
     "data": {
      "text/plain": [
       "0                                     crise e tao grande que nem tiozao do pave fez piada na noite de natal\n",
       "1             nao me representam diz jesus sobre intolerantes que apedrejaram crianca que saia do candomble\n",
       "2        marina silva e heloisa helena montam novo partido o partido esquerdista da republica unida p. e...\n",
       "3                                                          dez propostas que podem realmente mudar o brasil\n",
       "4                              apresentadora do cidade alerta bahia dara curso de como ser otimista e feliz\n",
       "                                                       ...                                                 \n",
       "4369                               pesquisa 85 das pessoas ja abandonaram a dieta iniciada no novo ano novo\n",
       "4370                19h de sexta ja e hora de admitir a derrota e ligar para o peguete de sempre diz estudo\n",
       "4371                    senado aprova hoje nova reforma ortografica com uso do sinal de acentuacao de ironi\n",
       "4372                                 haddad prova que unica coisa que o pt nao rouba e voto dos adversarios\n",
       "4373                                                 amanda quer teste de dna para saber se pezao e seu pai\n",
       "Name: title, Length: 4374, dtype: object"
      ]
     },
     "execution_count": 62,
     "metadata": {},
     "output_type": "execute_result"
    }
   ],
   "source": [
    "df_titles = df.drop(columns=['text', 'label'])\n",
    "\n",
    "pd.options.display.max_colwidth = 100\n",
    "titles_series = df_titles['title']\n",
    "titles_series"
   ]
  },
  {
   "cell_type": "code",
   "execution_count": 63,
   "metadata": {},
   "outputs": [],
   "source": [
    "def buildTFIDFVectorizer(docs):\n",
    "    vect = TfidfVectorizer()\n",
    "    matrix = vect.fit_transform(docs) \n",
    "    return matrix, vect\n",
    "\n",
    "def docSimilarities(doc, matrix):\n",
    "    res = matrix.dot(doc.transpose())\n",
    "    return res"
   ]
  },
  {
   "cell_type": "code",
   "execution_count": 64,
   "metadata": {},
   "outputs": [
    {
     "data": {
      "text/plain": [
       "(4374, 9747)"
      ]
     },
     "execution_count": 64,
     "metadata": {},
     "output_type": "execute_result"
    }
   ],
   "source": [
    "tfidf_matrix, tfidf_vect = buildTFIDFVectorizer(titles_series)\n",
    "tfidf_matrix.shape # São 4374 linhas (documentos) e 9747 colunas (palavras do vocabulário);"
   ]
  },
  {
   "cell_type": "code",
   "execution_count": 65,
   "metadata": {},
   "outputs": [
    {
     "data": {
      "text/plain": [
       "array([[0.00608894],\n",
       "       [0.        ],\n",
       "       [0.        ],\n",
       "       ...,\n",
       "       [0.01153888],\n",
       "       [0.        ],\n",
       "       [0.00700184]])"
      ]
     },
     "execution_count": 65,
     "metadata": {},
     "output_type": "execute_result"
    }
   ],
   "source": [
    "query_doc_title1 = tfidf_matrix.getrow(index1)\n",
    "query_doc_title2 = tfidf_matrix.getrow(index2)\n",
    "query_doc_title3 = tfidf_matrix.getrow(index3)\n",
    "\n",
    "titles_doc_sim1 = np.array(docSimilarities(query_doc_title1, tfidf_matrix).toarray())\n",
    "titles_doc_sim2 = np.array(docSimilarities(query_doc_title2, tfidf_matrix).toarray())\n",
    "titles_doc_sim3 = np.array(docSimilarities(query_doc_title3, tfidf_matrix).toarray())\n",
    "\n",
    "# titles_doc_sim1 = np.array(titles_doc_sim1.toarray())\n",
    "# titles_doc_sim1 = np.array(titles_doc_sim1.toarray())\n",
    "# titles_doc_sim1 = np.array(titles_doc_sim1.toarray())\n",
    "\n",
    "titles_doc_sim1"
   ]
  },
  {
   "cell_type": "code",
   "execution_count": 66,
   "metadata": {},
   "outputs": [
    {
     "data": {
      "text/plain": [
       "True"
      ]
     },
     "execution_count": 66,
     "metadata": {},
     "output_type": "execute_result"
    }
   ],
   "source": [
    "titles_doc_sim1.shape == titles_doc_sim2.shape == titles_doc_sim3.shape"
   ]
  },
  {
   "cell_type": "code",
   "execution_count": 67,
   "metadata": {},
   "outputs": [],
   "source": [
    "titles_sorted_indexes1 = np.argsort(titles_doc_sim1, axis=None)\n",
    "titles_sorted_indexes2 = np.argsort(titles_doc_sim2, axis=None)\n",
    "titles_sorted_indexes3 = np.argsort(titles_doc_sim3, axis=None)\n",
    "\n",
    "most_similar_title1 = titles_sorted_indexes1[-2]\n",
    "second_most_similar_title1 = titles_sorted_indexes1[-3]\n",
    "third_most_similar_title1 = titles_sorted_indexes1[-4]\n",
    "\n",
    "most_similar_title2 = titles_sorted_indexes2[-2]\n",
    "second_most_similar_title2 = titles_sorted_indexes2[-3]\n",
    "third_most_similar_title2 = titles_sorted_indexes2[-4]\n",
    "\n",
    "most_similar_title3 = titles_sorted_indexes3[-2]\n",
    "second_most_similar_title3 = titles_sorted_indexes3[-3]\n",
    "third_most_similar_title3 = titles_sorted_indexes3[-4]"
   ]
  },
  {
   "cell_type": "code",
   "execution_count": 68,
   "metadata": {
    "scrolled": true
   },
   "outputs": [
    {
     "data": {
      "text/html": [
       "<div>\n",
       "<style scoped>\n",
       "    .dataframe tbody tr th:only-of-type {\n",
       "        vertical-align: middle;\n",
       "    }\n",
       "\n",
       "    .dataframe tbody tr th {\n",
       "        vertical-align: top;\n",
       "    }\n",
       "\n",
       "    .dataframe thead th {\n",
       "        text-align: right;\n",
       "    }\n",
       "</style>\n",
       "<table border=\"1\" class=\"dataframe\">\n",
       "  <thead>\n",
       "    <tr style=\"text-align: right;\">\n",
       "      <th></th>\n",
       "      <th>title</th>\n",
       "    </tr>\n",
       "  </thead>\n",
       "  <tbody>\n",
       "    <tr>\n",
       "      <th>3138</th>\n",
       "      <td>sandalinha milicia e sucesso nos morros do rio</td>\n",
       "    </tr>\n",
       "    <tr>\n",
       "      <th>1629</th>\n",
       "      <td>macaranduba e o novo chefe de policia do rio</td>\n",
       "    </tr>\n",
       "    <tr>\n",
       "      <th>1012</th>\n",
       "      <td>em homenagem ao filho gay edir macedo dispensa homossexuais de pagarem dizimo na sua igreja</td>\n",
       "    </tr>\n",
       "  </tbody>\n",
       "</table>\n",
       "</div>"
      ],
      "text/plain": [
       "                                                                                             title\n",
       "3138                                                sandalinha milicia e sucesso nos morros do rio\n",
       "1629                                                  macaranduba e o novo chefe de policia do rio\n",
       "1012   em homenagem ao filho gay edir macedo dispensa homossexuais de pagarem dizimo na sua igreja"
      ]
     },
     "execution_count": 68,
     "metadata": {},
     "output_type": "execute_result"
    }
   ],
   "source": [
    "title_frames1 = [df_titles.iloc[[most_similar_title1]], df_titles.iloc[[second_most_similar_title1]], df_titles.iloc[[third_most_similar_title1]]]\n",
    "result1 = pd.concat(title_frames1)\n",
    "result1"
   ]
  },
  {
   "cell_type": "code",
   "execution_count": 69,
   "metadata": {},
   "outputs": [
    {
     "data": {
      "text/html": [
       "<div>\n",
       "<style scoped>\n",
       "    .dataframe tbody tr th:only-of-type {\n",
       "        vertical-align: middle;\n",
       "    }\n",
       "\n",
       "    .dataframe tbody tr th {\n",
       "        vertical-align: top;\n",
       "    }\n",
       "\n",
       "    .dataframe thead th {\n",
       "        text-align: right;\n",
       "    }\n",
       "</style>\n",
       "<table border=\"1\" class=\"dataframe\">\n",
       "  <thead>\n",
       "    <tr style=\"text-align: right;\">\n",
       "      <th></th>\n",
       "      <th>title</th>\n",
       "    </tr>\n",
       "  </thead>\n",
       "  <tbody>\n",
       "    <tr>\n",
       "      <th>3780</th>\n",
       "      <td>cego entra com processo contra silvio santos ele falou pra mim se enxerga</td>\n",
       "    </tr>\n",
       "    <tr>\n",
       "      <th>1576</th>\n",
       "      <td>ansiosa pelo fgts dilma agradece a temer</td>\n",
       "    </tr>\n",
       "    <tr>\n",
       "      <th>657</th>\n",
       "      <td>apos protestos contra corrupcao colocarem pmdb no poder brasileiros queimam pneus contra poluicao</td>\n",
       "    </tr>\n",
       "  </tbody>\n",
       "</table>\n",
       "</div>"
      ],
      "text/plain": [
       "                                                                                                   title\n",
       "3780                           cego entra com processo contra silvio santos ele falou pra mim se enxerga\n",
       "1576                                                            ansiosa pelo fgts dilma agradece a temer\n",
       "657    apos protestos contra corrupcao colocarem pmdb no poder brasileiros queimam pneus contra poluicao"
      ]
     },
     "execution_count": 69,
     "metadata": {},
     "output_type": "execute_result"
    }
   ],
   "source": [
    "title_frames2 = [df_titles.iloc[[most_similar_title2]], df_titles.iloc[[second_most_similar_title2]], df_titles.iloc[[third_most_similar_title2]]]\n",
    "result2 = pd.concat(title_frames2)\n",
    "result2"
   ]
  },
  {
   "cell_type": "code",
   "execution_count": 70,
   "metadata": {},
   "outputs": [
    {
     "data": {
      "text/html": [
       "<div>\n",
       "<style scoped>\n",
       "    .dataframe tbody tr th:only-of-type {\n",
       "        vertical-align: middle;\n",
       "    }\n",
       "\n",
       "    .dataframe tbody tr th {\n",
       "        vertical-align: top;\n",
       "    }\n",
       "\n",
       "    .dataframe thead th {\n",
       "        text-align: right;\n",
       "    }\n",
       "</style>\n",
       "<table border=\"1\" class=\"dataframe\">\n",
       "  <thead>\n",
       "    <tr style=\"text-align: right;\">\n",
       "      <th></th>\n",
       "      <th>title</th>\n",
       "    </tr>\n",
       "  </thead>\n",
       "  <tbody>\n",
       "    <tr>\n",
       "      <th>796</th>\n",
       "      <td>marco feliciano lanca projeto de lei contra exame da prostata</td>\n",
       "    </tr>\n",
       "    <tr>\n",
       "      <th>1884</th>\n",
       "      <td>orgulho hetero movimento quer revisao historica somos oriundos dos hetero sapiens</td>\n",
       "    </tr>\n",
       "    <tr>\n",
       "      <th>2647</th>\n",
       "      <td>omo vai patrocinar marcha do orgulho hetero</td>\n",
       "    </tr>\n",
       "  </tbody>\n",
       "</table>\n",
       "</div>"
      ],
      "text/plain": [
       "                                                                                   title\n",
       "796                        marco feliciano lanca projeto de lei contra exame da prostata\n",
       "1884   orgulho hetero movimento quer revisao historica somos oriundos dos hetero sapiens\n",
       "2647                                         omo vai patrocinar marcha do orgulho hetero"
      ]
     },
     "execution_count": 70,
     "metadata": {},
     "output_type": "execute_result"
    }
   ],
   "source": [
    "title_frames3 = [df_titles.iloc[[most_similar_title3]], df_titles.iloc[[second_most_similar_title3]], df_titles.iloc[[third_most_similar_title3]]]\n",
    "result3 = pd.concat(title_frames3)\n",
    "result3"
   ]
  },
  {
   "cell_type": "markdown",
   "metadata": {},
   "source": [
    "### K-NN: título como entrada e textos para cálculo de similaridades"
   ]
  },
  {
   "cell_type": "code",
   "execution_count": 71,
   "metadata": {},
   "outputs": [
    {
     "data": {
      "text/plain": [
       "0       a familia guimaraes passou a noite de natal perplexa.  genival o tiozao do pave deles desde 1985...\n",
       "1       uma menina de 11 anos apedrejada ao sair de uma festa de candomble no ultimo domingo no rio de j...\n",
       "2       insatisfeitas com seus partidos com as siglas dos partidos com os politicos com as tardes ensola...\n",
       "3       o instituto nupal nucleo de pesquisas da america latina fez uma pesquisa que mostrou ideias que ...\n",
       "4       assassinatos sequestros mortes violentas.  nenhuma noticia parece abalar a apresentadora do cida...\n",
       "                                                       ...                                                 \n",
       "4369    ferias de janeiro acabaram carnaval acabou.  o novo ano novo iniciado na segundafeira poscarnava...\n",
       "4370    sextafeira dia de esperancas no coracao dos solteiros.  mas tudo tem limite.  pelo menos e o que...\n",
       "4371    a lingua portuguesa passara a ser a primeira do mundo a ter acentuacao para a ironia.  o senado ...\n",
       "4372    o prefeito fernando haddad teve que manter a velocidade baixa e nao conseguiu arrancar na reta f...\n",
       "4373    a julgar pelas olheiras tal pai tal filha.  foi vendo fotografias do governador do estado do rio...\n",
       "Name: text, Length: 4374, dtype: object"
      ]
     },
     "execution_count": 71,
     "metadata": {},
     "output_type": "execute_result"
    }
   ],
   "source": [
    "df_texts = df.drop(columns=['title', 'label'])\n",
    "\n",
    "pd.options.display.max_colwidth = 100\n",
    "text_series = df_texts['text']\n",
    "text_series"
   ]
  },
  {
   "cell_type": "code",
   "execution_count": 72,
   "metadata": {},
   "outputs": [
    {
     "data": {
      "text/plain": [
       "(4374, 9747)"
      ]
     },
     "execution_count": 72,
     "metadata": {},
     "output_type": "execute_result"
    }
   ],
   "source": [
    "text_tfidf_matrix = tfidf_vect.transform(text_series) \n",
    "text_tfidf_matrix.shape"
   ]
  },
  {
   "cell_type": "code",
   "execution_count": 73,
   "metadata": {},
   "outputs": [
    {
     "data": {
      "text/plain": [
       "True"
      ]
     },
     "execution_count": 73,
     "metadata": {},
     "output_type": "execute_result"
    }
   ],
   "source": [
    "titles_text_doc_sim1 = np.array(docSimilarities(query_doc_title1, text_tfidf_matrix).toarray())\n",
    "titles_text_doc_sim2 = np.array(docSimilarities(query_doc_title2, text_tfidf_matrix).toarray())\n",
    "titles_text_doc_sim3 = np.array(docSimilarities(query_doc_title3, text_tfidf_matrix).toarray())\n",
    "\n",
    "titles_text_doc_sim1.shape == titles_text_doc_sim2.shape == titles_text_doc_sim3.shape"
   ]
  },
  {
   "cell_type": "code",
   "execution_count": 74,
   "metadata": {},
   "outputs": [],
   "source": [
    "title_text_sorted_indexes1 = np.argsort(titles_text_doc_sim1, axis=None)\n",
    "title_text_sorted_indexes2 = np.argsort(titles_text_doc_sim2, axis=None)\n",
    "title_text_sorted_indexes3 = np.argsort(titles_text_doc_sim3, axis=None)\n",
    "\n",
    "most_similar_title_text1 = title_text_sorted_indexes1[-2]\n",
    "second_most_similar_title_text1 = title_text_sorted_indexes1[-3]\n",
    "third_most_similar_title_text1 = title_text_sorted_indexes1[-4]\n",
    "\n",
    "most_similar_title_text2 = title_text_sorted_indexes2[-2]\n",
    "second_most_similar_title_text2 = title_text_sorted_indexes2[-3]\n",
    "third_most_similar_title_text2 = title_text_sorted_indexes2[-4]\n",
    "\n",
    "most_similar_title_text3 = title_text_sorted_indexes3[-2]\n",
    "second_most_similar_title_text3 = title_text_sorted_indexes3[-3]\n",
    "third_most_similar_title_text3 = title_text_sorted_indexes3[-4]"
   ]
  },
  {
   "cell_type": "code",
   "execution_count": 75,
   "metadata": {},
   "outputs": [
    {
     "data": {
      "text/html": [
       "<div>\n",
       "<style scoped>\n",
       "    .dataframe tbody tr th:only-of-type {\n",
       "        vertical-align: middle;\n",
       "    }\n",
       "\n",
       "    .dataframe tbody tr th {\n",
       "        vertical-align: top;\n",
       "    }\n",
       "\n",
       "    .dataframe thead th {\n",
       "        text-align: right;\n",
       "    }\n",
       "</style>\n",
       "<table border=\"1\" class=\"dataframe\">\n",
       "  <thead>\n",
       "    <tr style=\"text-align: right;\">\n",
       "      <th></th>\n",
       "      <th>title</th>\n",
       "    </tr>\n",
       "  </thead>\n",
       "  <tbody>\n",
       "    <tr>\n",
       "      <th>4181</th>\n",
       "      <td>romero britto se inspirou em pablo do qual e a musica para fazer desenho de papa francisco</td>\n",
       "    </tr>\n",
       "    <tr>\n",
       "      <th>2909</th>\n",
       "      <td>mulher anda de joelhos em aparecida pedindo para nao tirar o chefe no amigo oculto</td>\n",
       "    </tr>\n",
       "    <tr>\n",
       "      <th>3744</th>\n",
       "      <td>fotos de cabral preso eram mais aguardadas que as de marina ruy barbosa na playboy</td>\n",
       "    </tr>\n",
       "  </tbody>\n",
       "</table>\n",
       "</div>"
      ],
      "text/plain": [
       "                                                                                            title\n",
       "4181   romero britto se inspirou em pablo do qual e a musica para fazer desenho de papa francisco\n",
       "2909           mulher anda de joelhos em aparecida pedindo para nao tirar o chefe no amigo oculto\n",
       "3744           fotos de cabral preso eram mais aguardadas que as de marina ruy barbosa na playboy"
      ]
     },
     "execution_count": 75,
     "metadata": {},
     "output_type": "execute_result"
    }
   ],
   "source": [
    "title_text_frames1 = [df_titles.iloc[[most_similar_title_text1]], df_titles.iloc[[second_most_similar_title_text1]], df_titles.iloc[[third_most_similar_title_text1]]]\n",
    "result_title_text1 = pd.concat(title_text_frames1)\n",
    "result_title_text1"
   ]
  },
  {
   "cell_type": "code",
   "execution_count": 76,
   "metadata": {},
   "outputs": [
    {
     "data": {
      "text/html": [
       "<div>\n",
       "<style scoped>\n",
       "    .dataframe tbody tr th:only-of-type {\n",
       "        vertical-align: middle;\n",
       "    }\n",
       "\n",
       "    .dataframe tbody tr th {\n",
       "        vertical-align: top;\n",
       "    }\n",
       "\n",
       "    .dataframe thead th {\n",
       "        text-align: right;\n",
       "    }\n",
       "</style>\n",
       "<table border=\"1\" class=\"dataframe\">\n",
       "  <thead>\n",
       "    <tr style=\"text-align: right;\">\n",
       "      <th></th>\n",
       "      <th>title</th>\n",
       "    </tr>\n",
       "  </thead>\n",
       "  <tbody>\n",
       "    <tr>\n",
       "      <th>3409</th>\n",
       "      <td>deus pede danos morais apos homem colar adesivo foi deus que me deu em ford ka</td>\n",
       "    </tr>\n",
       "    <tr>\n",
       "      <th>2336</th>\n",
       "      <td>deus diz que desde que se tornou evangelico cunha ja adiou a volta de jesus seis vezes</td>\n",
       "    </tr>\n",
       "    <tr>\n",
       "      <th>3817</th>\n",
       "      <td>datena declara que ateus nao acreditam em deus e e processado</td>\n",
       "    </tr>\n",
       "  </tbody>\n",
       "</table>\n",
       "</div>"
      ],
      "text/plain": [
       "                                                                                        title\n",
       "3409           deus pede danos morais apos homem colar adesivo foi deus que me deu em ford ka\n",
       "2336   deus diz que desde que se tornou evangelico cunha ja adiou a volta de jesus seis vezes\n",
       "3817                            datena declara que ateus nao acreditam em deus e e processado"
      ]
     },
     "execution_count": 76,
     "metadata": {},
     "output_type": "execute_result"
    }
   ],
   "source": [
    "title_text_frames2 = [df_titles.iloc[[most_similar_title_text2]], df_titles.iloc[[second_most_similar_title_text2]], df_titles.iloc[[third_most_similar_title_text2]]]\n",
    "result_title_text2 = pd.concat(title_text_frames2)\n",
    "result_title_text2"
   ]
  },
  {
   "cell_type": "code",
   "execution_count": 77,
   "metadata": {},
   "outputs": [
    {
     "data": {
      "text/html": [
       "<div>\n",
       "<style scoped>\n",
       "    .dataframe tbody tr th:only-of-type {\n",
       "        vertical-align: middle;\n",
       "    }\n",
       "\n",
       "    .dataframe tbody tr th {\n",
       "        vertical-align: top;\n",
       "    }\n",
       "\n",
       "    .dataframe thead th {\n",
       "        text-align: right;\n",
       "    }\n",
       "</style>\n",
       "<table border=\"1\" class=\"dataframe\">\n",
       "  <thead>\n",
       "    <tr style=\"text-align: right;\">\n",
       "      <th></th>\n",
       "      <th>title</th>\n",
       "    </tr>\n",
       "  </thead>\n",
       "  <tbody>\n",
       "    <tr>\n",
       "      <th>3287</th>\n",
       "      <td>filho de edir macedo diz que nao e gay apenas faz exame de prostata diariamente pra se prevenir</td>\n",
       "    </tr>\n",
       "    <tr>\n",
       "      <th>2758</th>\n",
       "      <td>marcha do orgulho enrustido ainda e duvida para este fim de semana</td>\n",
       "    </tr>\n",
       "    <tr>\n",
       "      <th>796</th>\n",
       "      <td>marco feliciano lanca projeto de lei contra exame da prostata</td>\n",
       "    </tr>\n",
       "  </tbody>\n",
       "</table>\n",
       "</div>"
      ],
      "text/plain": [
       "                                                                                                 title\n",
       "3287   filho de edir macedo diz que nao e gay apenas faz exame de prostata diariamente pra se prevenir\n",
       "2758                                marcha do orgulho enrustido ainda e duvida para este fim de semana\n",
       "796                                      marco feliciano lanca projeto de lei contra exame da prostata"
      ]
     },
     "execution_count": 77,
     "metadata": {},
     "output_type": "execute_result"
    }
   ],
   "source": [
    "title_text_frames3 = [df_titles.iloc[[most_similar_title_text3]], df_titles.iloc[[second_most_similar_title_text3]], df_titles.iloc[[third_most_similar_title_text3]]]\n",
    "result_title_text3 = pd.concat(title_text_frames3)\n",
    "result_title_text3"
   ]
  },
  {
   "cell_type": "markdown",
   "metadata": {},
   "source": [
    "### K-NN: texto como entrada e para cálculo de similaridades"
   ]
  },
  {
   "cell_type": "code",
   "execution_count": 78,
   "metadata": {},
   "outputs": [
    {
     "data": {
      "text/plain": [
       "True"
      ]
     },
     "execution_count": 78,
     "metadata": {},
     "output_type": "execute_result"
    }
   ],
   "source": [
    "query_doc_text1 = text_tfidf_matrix.getrow(index1)\n",
    "query_doc_text2 = text_tfidf_matrix.getrow(index2)\n",
    "query_doc_text3 = text_tfidf_matrix.getrow(index3)\n",
    "\n",
    "query_doc_text1.shape == query_doc_text2.shape == query_doc_text3.shape"
   ]
  },
  {
   "cell_type": "code",
   "execution_count": 79,
   "metadata": {},
   "outputs": [],
   "source": [
    "doc_sim_text_text1 = np.array(docSimilarities(query_doc_text1, text_tfidf_matrix).toarray())\n",
    "doc_sim_text_text2 = np.array(docSimilarities(query_doc_text2, text_tfidf_matrix).toarray())\n",
    "doc_sim_text_text3 = np.array(docSimilarities(query_doc_text3, text_tfidf_matrix).toarray())\n",
    "\n",
    "text_sorted_indexes1 = np.argsort(doc_sim_text_text1, axis=None)\n",
    "text_sorted_indexes2 = np.argsort(doc_sim_text_text2, axis=None)\n",
    "text_sorted_indexes3 = np.argsort(doc_sim_text_text3, axis=None)\n",
    "\n",
    "most_similar_text1 = text_sorted_indexes1[-2]\n",
    "second_most_similar_text1 = text_sorted_indexes1[-3]\n",
    "third_most_similar_text1 = text_sorted_indexes1[-4]\n",
    "\n",
    "most_similar_text2 = text_sorted_indexes2[-2]\n",
    "second_most_similar_text2 = text_sorted_indexes2[-3]\n",
    "third_most_similar_text2 = text_sorted_indexes2[-4]\n",
    "\n",
    "most_similar_text3 = text_sorted_indexes3[-2]\n",
    "second_most_similar_text3 = text_sorted_indexes3[-3]\n",
    "third_most_similar_text3 = text_sorted_indexes3[-4]\n",
    "\n"
   ]
  },
  {
   "cell_type": "code",
   "execution_count": 80,
   "metadata": {},
   "outputs": [
    {
     "data": {
      "text/html": [
       "<div>\n",
       "<style scoped>\n",
       "    .dataframe tbody tr th:only-of-type {\n",
       "        vertical-align: middle;\n",
       "    }\n",
       "\n",
       "    .dataframe tbody tr th {\n",
       "        vertical-align: top;\n",
       "    }\n",
       "\n",
       "    .dataframe thead th {\n",
       "        text-align: right;\n",
       "    }\n",
       "</style>\n",
       "<table border=\"1\" class=\"dataframe\">\n",
       "  <thead>\n",
       "    <tr style=\"text-align: right;\">\n",
       "      <th></th>\n",
       "      <th>title</th>\n",
       "    </tr>\n",
       "  </thead>\n",
       "  <tbody>\n",
       "    <tr>\n",
       "      <th>3559</th>\n",
       "      <td>estatua de tom jobim usa lentes de contato para nao roubarem os oculos</td>\n",
       "    </tr>\n",
       "    <tr>\n",
       "      <th>4128</th>\n",
       "      <td>portugueses tomam comunidade em poder dos indios e cabral instala a primeira upp</td>\n",
       "    </tr>\n",
       "    <tr>\n",
       "      <th>1568</th>\n",
       "      <td>crivella anuncia que vai substituir cristo redentor por estatua de edir macedo</td>\n",
       "    </tr>\n",
       "  </tbody>\n",
       "</table>\n",
       "</div>"
      ],
      "text/plain": [
       "                                                                                  title\n",
       "3559             estatua de tom jobim usa lentes de contato para nao roubarem os oculos\n",
       "4128   portugueses tomam comunidade em poder dos indios e cabral instala a primeira upp\n",
       "1568     crivella anuncia que vai substituir cristo redentor por estatua de edir macedo"
      ]
     },
     "execution_count": 80,
     "metadata": {},
     "output_type": "execute_result"
    }
   ],
   "source": [
    "frames_text1 = [df_titles.iloc[[most_similar_text1]], df_titles.iloc[[second_most_similar_text1]], df_titles.iloc[[third_most_similar_text1]]]\n",
    "result_text1 = pd.concat(frames_text1)\n",
    "result_text1"
   ]
  },
  {
   "cell_type": "code",
   "execution_count": 81,
   "metadata": {},
   "outputs": [
    {
     "data": {
      "text/html": [
       "<div>\n",
       "<style scoped>\n",
       "    .dataframe tbody tr th:only-of-type {\n",
       "        vertical-align: middle;\n",
       "    }\n",
       "\n",
       "    .dataframe tbody tr th {\n",
       "        vertical-align: top;\n",
       "    }\n",
       "\n",
       "    .dataframe thead th {\n",
       "        text-align: right;\n",
       "    }\n",
       "</style>\n",
       "<table border=\"1\" class=\"dataframe\">\n",
       "  <thead>\n",
       "    <tr style=\"text-align: right;\">\n",
       "      <th></th>\n",
       "      <th>title</th>\n",
       "    </tr>\n",
       "  </thead>\n",
       "  <tbody>\n",
       "    <tr>\n",
       "      <th>1269</th>\n",
       "      <td>astrologia veja como venus e presidente retrogrados podem interferir no brasil</td>\n",
       "    </tr>\n",
       "    <tr>\n",
       "      <th>3952</th>\n",
       "      <td>movimento separatista do sul apresenta uniforme dois do mascote sulito</td>\n",
       "    </tr>\n",
       "    <tr>\n",
       "      <th>4015</th>\n",
       "      <td>caso nao possa concorrer em 2018 lula cogita se candidatar a deus</td>\n",
       "    </tr>\n",
       "  </tbody>\n",
       "</table>\n",
       "</div>"
      ],
      "text/plain": [
       "                                                                                title\n",
       "1269   astrologia veja como venus e presidente retrogrados podem interferir no brasil\n",
       "3952           movimento separatista do sul apresenta uniforme dois do mascote sulito\n",
       "4015                caso nao possa concorrer em 2018 lula cogita se candidatar a deus"
      ]
     },
     "execution_count": 81,
     "metadata": {},
     "output_type": "execute_result"
    }
   ],
   "source": [
    "frames_text2 = [df_titles.iloc[[most_similar_text2]], df_titles.iloc[[second_most_similar_text2]], df_titles.iloc[[third_most_similar_text2]]]\n",
    "result_text2 = pd.concat(frames_text2)\n",
    "result_text2"
   ]
  },
  {
   "cell_type": "code",
   "execution_count": 82,
   "metadata": {},
   "outputs": [
    {
     "data": {
      "text/html": [
       "<div>\n",
       "<style scoped>\n",
       "    .dataframe tbody tr th:only-of-type {\n",
       "        vertical-align: middle;\n",
       "    }\n",
       "\n",
       "    .dataframe tbody tr th {\n",
       "        vertical-align: top;\n",
       "    }\n",
       "\n",
       "    .dataframe thead th {\n",
       "        text-align: right;\n",
       "    }\n",
       "</style>\n",
       "<table border=\"1\" class=\"dataframe\">\n",
       "  <thead>\n",
       "    <tr style=\"text-align: right;\">\n",
       "      <th></th>\n",
       "      <th>title</th>\n",
       "    </tr>\n",
       "  </thead>\n",
       "  <tbody>\n",
       "    <tr>\n",
       "      <th>2758</th>\n",
       "      <td>marcha do orgulho enrustido ainda e duvida para este fim de semana</td>\n",
       "    </tr>\n",
       "    <tr>\n",
       "      <th>3575</th>\n",
       "      <td>entrevista de mulher de joao doria a jornal causa epidemia de vomito no cafe da manha</td>\n",
       "    </tr>\n",
       "    <tr>\n",
       "      <th>1884</th>\n",
       "      <td>orgulho hetero movimento quer revisao historica somos oriundos dos hetero sapiens</td>\n",
       "    </tr>\n",
       "  </tbody>\n",
       "</table>\n",
       "</div>"
      ],
      "text/plain": [
       "                                                                                       title\n",
       "2758                      marcha do orgulho enrustido ainda e duvida para este fim de semana\n",
       "3575   entrevista de mulher de joao doria a jornal causa epidemia de vomito no cafe da manha\n",
       "1884       orgulho hetero movimento quer revisao historica somos oriundos dos hetero sapiens"
      ]
     },
     "execution_count": 82,
     "metadata": {},
     "output_type": "execute_result"
    }
   ],
   "source": [
    "frames_text3 = [df_titles.iloc[[most_similar_text3]], df_titles.iloc[[second_most_similar_text3]], df_titles.iloc[[third_most_similar_text3]]]\n",
    "result_text3 = pd.concat(frames_text3)\n",
    "result_text3"
   ]
  },
  {
   "cell_type": "markdown",
   "metadata": {},
   "source": [
    "## Conclusão e respostas das perguntas"
   ]
  },
  {
   "cell_type": "markdown",
   "metadata": {},
   "source": [
    "Para analisá-los de forma mais eficiente, vamos concatenar todos os resultados do mesmo título em um mesmo Dataframe:"
   ]
  },
  {
   "cell_type": "code",
   "execution_count": 83,
   "metadata": {},
   "outputs": [
    {
     "data": {
      "text/plain": [
       " macaranduba e o novo chefe de policia do rio                                                   1\n",
       " em homenagem ao filho gay edir macedo dispensa homossexuais de pagarem dizimo na sua igreja    1\n",
       " sandalinha milicia e sucesso nos morros do rio                                                 1\n",
       " crivella anuncia que vai substituir cristo redentor por estatua de edir macedo                 1\n",
       " fotos de cabral preso eram mais aguardadas que as de marina ruy barbosa na playboy             1\n",
       " mulher anda de joelhos em aparecida pedindo para nao tirar o chefe no amigo oculto             1\n",
       " portugueses tomam comunidade em poder dos indios e cabral instala a primeira upp               1\n",
       " romero britto se inspirou em pablo do qual e a musica para fazer desenho de papa francisco     1\n",
       " estatua de tom jobim usa lentes de contato para nao roubarem os oculos                         1\n",
       "Name: title, dtype: int64"
      ]
     },
     "execution_count": 83,
     "metadata": {},
     "output_type": "execute_result"
    }
   ],
   "source": [
    "frames_final1 = [result1, result_title_text1, result_text1]\n",
    "result_final1 = pd.concat(frames_final1)\n",
    "result_final1.title.value_counts()"
   ]
  },
  {
   "cell_type": "code",
   "execution_count": 84,
   "metadata": {},
   "outputs": [
    {
     "data": {
      "text/plain": [
       " movimento separatista do sul apresenta uniforme dois do mascote sulito                               1\n",
       " cego entra com processo contra silvio santos ele falou pra mim se enxerga                            1\n",
       " astrologia veja como venus e presidente retrogrados podem interferir no brasil                       1\n",
       " ansiosa pelo fgts dilma agradece a temer                                                             1\n",
       " deus pede danos morais apos homem colar adesivo foi deus que me deu em ford ka                       1\n",
       " caso nao possa concorrer em 2018 lula cogita se candidatar a deus                                    1\n",
       " apos protestos contra corrupcao colocarem pmdb no poder brasileiros queimam pneus contra poluicao    1\n",
       " datena declara que ateus nao acreditam em deus e e processado                                        1\n",
       " deus diz que desde que se tornou evangelico cunha ja adiou a volta de jesus seis vezes               1\n",
       "Name: title, dtype: int64"
      ]
     },
     "execution_count": 84,
     "metadata": {},
     "output_type": "execute_result"
    }
   ],
   "source": [
    "frames_final2 = [result2, result_title_text2, result_text2]\n",
    "result_final2 = pd.concat(frames_final2)\n",
    "result_final2.title.value_counts()"
   ]
  },
  {
   "cell_type": "code",
   "execution_count": 85,
   "metadata": {},
   "outputs": [
    {
     "data": {
      "text/plain": [
       " marcha do orgulho enrustido ainda e duvida para este fim de semana                                 2\n",
       " orgulho hetero movimento quer revisao historica somos oriundos dos hetero sapiens                  2\n",
       " marco feliciano lanca projeto de lei contra exame da prostata                                      2\n",
       " entrevista de mulher de joao doria a jornal causa epidemia de vomito no cafe da manha              1\n",
       " omo vai patrocinar marcha do orgulho hetero                                                        1\n",
       " filho de edir macedo diz que nao e gay apenas faz exame de prostata diariamente pra se prevenir    1\n",
       "Name: title, dtype: int64"
      ]
     },
     "execution_count": 85,
     "metadata": {},
     "output_type": "execute_result"
    }
   ],
   "source": [
    "frames_final3 = [result3, result_title_text3, result_text3]\n",
    "result_final3 = pd.concat(frames_final3)\n",
    "result_final3.title.value_counts()"
   ]
  },
  {
   "cell_type": "markdown",
   "metadata": {},
   "source": [
    "### Respostas\n",
    "\n",
    "1. Os vizinhos são os mesmos em todos os casos?\n",
    "R: Não são os mesmos, mas houve repetição no terceiro texto (diferentes cálculos chegaram no mesmo resultado de similaridade, em alguns casos).\n",
    "\n",
    "2. Se não, quais foram diferentes? \n",
    "R: Todos os resultados de diferentes estratégias de cálculo no primeiro e segundo texto foram diferentes.\n",
    "\n",
    "3. Olhando a sátira de entrada, qual das configurações acima (1,2 ou 3) você acha que trouxe os melhores vizinhos e por quê?\n",
    "R: Na minha opinião, a primeira tática foi a que trouxe os melhores resultados.\n",
    "\n",
    "4. Nos casos que houve diferença, por que você acha que isso aconteceu?\n",
    "R: É esperado que estratégias diferentes gerem resultados diferentes, porque o vetor para o cálculo de similaridades muda, assim como o referencial de comparação para medir similaridade (nesse caso, título ou texto). Porém, isso também mostra que nenhuma dessas estratégias é infalível."
   ]
  },
  {
   "cell_type": "code",
   "execution_count": null,
   "metadata": {},
   "outputs": [],
   "source": []
  }
 ],
 "metadata": {
  "kernelspec": {
   "display_name": "Python 3",
   "language": "python",
   "name": "python3"
  },
  "language_info": {
   "codemirror_mode": {
    "name": "ipython",
    "version": 3
   },
   "file_extension": ".py",
   "mimetype": "text/x-python",
   "name": "python",
   "nbconvert_exporter": "python",
   "pygments_lexer": "ipython3",
   "version": "3.8.3"
  }
 },
 "nbformat": 4,
 "nbformat_minor": 4
}
