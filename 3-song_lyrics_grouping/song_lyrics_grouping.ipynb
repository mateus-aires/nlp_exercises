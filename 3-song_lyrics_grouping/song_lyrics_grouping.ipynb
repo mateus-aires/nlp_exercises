{
 "cells": [
  {
   "cell_type": "markdown",
   "metadata": {},
   "source": [
    "# Agrupando letras de músicas de Samba, Rock e Sertanejo\n",
    "\n",
    "Letras de músicas segundo o vagalume.com.br, coletadas por Anderson Neisse e [disponíveis no kaggle](https://www.kaggle.com/neisse/scrapped-lyrics-from-6-genres/data).\n",
    "\n",
    "Os dados originais foram tratados para diminuir duplicações e diminuir o tamanho do arquivo. Os resultados (e outros recortes dos dados de letras) estão [nesse repo](https://github.com/nazareno/palavras-nas-letras)."
   ]
  },
  {
   "cell_type": "code",
   "execution_count": 2,
   "metadata": {},
   "outputs": [],
   "source": [
    "import pandas as pd\n",
    "import numpy as np\n",
    "import altair as alt"
   ]
  },
  {
   "cell_type": "code",
   "execution_count": 3,
   "metadata": {},
   "outputs": [
    {
     "name": "stderr",
     "output_type": "stream",
     "text": [
      "[nltk_data] Downloading package stopwords to /home/mateus/nltk_data...\n",
      "[nltk_data]   Package stopwords is already up-to-date!\n"
     ]
    }
   ],
   "source": [
    "from sklearn import preprocessing, decomposition, model_selection, metrics, pipeline\n",
    "from sklearn.cluster import KMeans\n",
    "from sklearn.feature_extraction.text import TfidfVectorizer\n",
    "import nltk\n",
    "nltk.download('stopwords')\n",
    "from nltk.corpus import stopwords\n",
    "import re"
   ]
  },
  {
   "cell_type": "code",
   "execution_count": 6,
   "metadata": {},
   "outputs": [
    {
     "data": {
      "text/html": [
       "<div>\n",
       "<style scoped>\n",
       "    .dataframe tbody tr th:only-of-type {\n",
       "        vertical-align: middle;\n",
       "    }\n",
       "\n",
       "    .dataframe tbody tr th {\n",
       "        vertical-align: top;\n",
       "    }\n",
       "\n",
       "    .dataframe thead th {\n",
       "        text-align: right;\n",
       "    }\n",
       "</style>\n",
       "<table border=\"1\" class=\"dataframe\">\n",
       "  <thead>\n",
       "    <tr style=\"text-align: right;\">\n",
       "      <th></th>\n",
       "      <th>SName</th>\n",
       "      <th>Lyric</th>\n",
       "      <th>Artist</th>\n",
       "      <th>Songs</th>\n",
       "      <th>Popularity</th>\n",
       "      <th>Genre</th>\n",
       "      <th>Genres</th>\n",
       "    </tr>\n",
       "  </thead>\n",
       "  <tbody>\n",
       "    <tr>\n",
       "      <th>7545</th>\n",
       "      <td>Tão Seu</td>\n",
       "      <td>Eu sinto sua falta. Não posso esperar tanto te...</td>\n",
       "      <td>Skank</td>\n",
       "      <td>139</td>\n",
       "      <td>12.3</td>\n",
       "      <td>Rock</td>\n",
       "      <td>Pop/Rock; Rock; Pop; Rock Alternativo; MPB; Ro...</td>\n",
       "    </tr>\n",
       "    <tr>\n",
       "      <th>106</th>\n",
       "      <td>Por Que A Gente é Assim?</td>\n",
       "      <td>Mais uma dose?. É claro que eu estou a fim. A ...</td>\n",
       "      <td>Barão Vermelho</td>\n",
       "      <td>160</td>\n",
       "      <td>3.8</td>\n",
       "      <td>Rock</td>\n",
       "      <td>Rock; Pop/Rock; MPB; Romântico; Rock Alternati...</td>\n",
       "    </tr>\n",
       "    <tr>\n",
       "      <th>3911</th>\n",
       "      <td>Mundo Negro</td>\n",
       "      <td>Oh oh oh.oh Oh oh oh oh Oh oh oh oh Oh oh oh. ...</td>\n",
       "      <td>O Rappa</td>\n",
       "      <td>97</td>\n",
       "      <td>10.2</td>\n",
       "      <td>Rock</td>\n",
       "      <td>Reggae; Rap; Rock; Pop/Rock; Black Music; Funk...</td>\n",
       "    </tr>\n",
       "    <tr>\n",
       "      <th>4535</th>\n",
       "      <td>Faça O Bem</td>\n",
       "      <td>Pois, eu conheço bem os teus erros. Prefere o ...</td>\n",
       "      <td>PG</td>\n",
       "      <td>111</td>\n",
       "      <td>1.1</td>\n",
       "      <td>Rock</td>\n",
       "      <td>Rock; Gospel/Religioso; Pop/Rock; Funk; Clássi...</td>\n",
       "    </tr>\n",
       "    <tr>\n",
       "      <th>5970</th>\n",
       "      <td>Tanto (I Want You)</td>\n",
       "      <td>Coveiros gemem tristes ais. E realejos ancestr...</td>\n",
       "      <td>Skank</td>\n",
       "      <td>139</td>\n",
       "      <td>12.3</td>\n",
       "      <td>Rock</td>\n",
       "      <td>Pop/Rock; Rock; Pop; Rock Alternativo; MPB; Ro...</td>\n",
       "    </tr>\n",
       "    <tr>\n",
       "      <th>7290</th>\n",
       "      <td>Um Único Olhar</td>\n",
       "      <td>Então, me coloco a sua frente. vai descobrir m...</td>\n",
       "      <td>Jota Quest</td>\n",
       "      <td>154</td>\n",
       "      <td>13.3</td>\n",
       "      <td>Rock</td>\n",
       "      <td>Pop/Rock; Pop; Rock; Romântico; Funk; Black Mu...</td>\n",
       "    </tr>\n",
       "    <tr>\n",
       "      <th>5978</th>\n",
       "      <td>Um Mais Um</td>\n",
       "      <td>Éramos nós (2x). Um mais um. Éramos mais. Que ...</td>\n",
       "      <td>Skank</td>\n",
       "      <td>139</td>\n",
       "      <td>12.3</td>\n",
       "      <td>Rock</td>\n",
       "      <td>Pop/Rock; Rock; Pop; Rock Alternativo; MPB; Ro...</td>\n",
       "    </tr>\n",
       "    <tr>\n",
       "      <th>177</th>\n",
       "      <td>Jardins da Babilônia</td>\n",
       "      <td>Suspenderam os jardins da Babilônia. E eu prá ...</td>\n",
       "      <td>Barão Vermelho</td>\n",
       "      <td>160</td>\n",
       "      <td>3.8</td>\n",
       "      <td>Rock</td>\n",
       "      <td>Rock; Pop/Rock; MPB; Romântico; Rock Alternati...</td>\n",
       "    </tr>\n",
       "    <tr>\n",
       "      <th>7302</th>\n",
       "      <td>Waiting For You (Party On)</td>\n",
       "      <td>Um novo dia nasceu. O tempo passou e o nosso a...</td>\n",
       "      <td>Jota Quest</td>\n",
       "      <td>154</td>\n",
       "      <td>13.3</td>\n",
       "      <td>Rock</td>\n",
       "      <td>Pop/Rock; Pop; Rock; Romântico; Funk; Black Mu...</td>\n",
       "    </tr>\n",
       "    <tr>\n",
       "      <th>282</th>\n",
       "      <td>Em Algum Lugar No Tempo</td>\n",
       "      <td>Não guarde mágoa de mim. Também não me esqueça...</td>\n",
       "      <td>Biquini Cavadão</td>\n",
       "      <td>162</td>\n",
       "      <td>3.4</td>\n",
       "      <td>Rock</td>\n",
       "      <td>Rock; Pop/Rock; Romântico; Punk Rock; New Wave...</td>\n",
       "    </tr>\n",
       "  </tbody>\n",
       "</table>\n",
       "</div>"
      ],
      "text/plain": [
       "                           SName  \\\n",
       "7545                     Tão Seu   \n",
       "106     Por Que A Gente é Assim?   \n",
       "3911                 Mundo Negro   \n",
       "4535                  Faça O Bem   \n",
       "5970          Tanto (I Want You)   \n",
       "7290              Um Único Olhar   \n",
       "5978                  Um Mais Um   \n",
       "177         Jardins da Babilônia   \n",
       "7302  Waiting For You (Party On)   \n",
       "282      Em Algum Lugar No Tempo   \n",
       "\n",
       "                                                  Lyric           Artist  \\\n",
       "7545  Eu sinto sua falta. Não posso esperar tanto te...            Skank   \n",
       "106   Mais uma dose?. É claro que eu estou a fim. A ...   Barão Vermelho   \n",
       "3911  Oh oh oh.oh Oh oh oh oh Oh oh oh oh Oh oh oh. ...          O Rappa   \n",
       "4535  Pois, eu conheço bem os teus erros. Prefere o ...               PG   \n",
       "5970  Coveiros gemem tristes ais. E realejos ancestr...            Skank   \n",
       "7290  Então, me coloco a sua frente. vai descobrir m...       Jota Quest   \n",
       "5978  Éramos nós (2x). Um mais um. Éramos mais. Que ...            Skank   \n",
       "177   Suspenderam os jardins da Babilônia. E eu prá ...   Barão Vermelho   \n",
       "7302  Um novo dia nasceu. O tempo passou e o nosso a...       Jota Quest   \n",
       "282   Não guarde mágoa de mim. Também não me esqueça...  Biquini Cavadão   \n",
       "\n",
       "      Songs  Popularity Genre  \\\n",
       "7545    139        12.3  Rock   \n",
       "106     160         3.8  Rock   \n",
       "3911     97        10.2  Rock   \n",
       "4535    111         1.1  Rock   \n",
       "5970    139        12.3  Rock   \n",
       "7290    154        13.3  Rock   \n",
       "5978    139        12.3  Rock   \n",
       "177     160         3.8  Rock   \n",
       "7302    154        13.3  Rock   \n",
       "282     162         3.4  Rock   \n",
       "\n",
       "                                                 Genres  \n",
       "7545  Pop/Rock; Rock; Pop; Rock Alternativo; MPB; Ro...  \n",
       "106   Rock; Pop/Rock; MPB; Romântico; Rock Alternati...  \n",
       "3911  Reggae; Rap; Rock; Pop/Rock; Black Music; Funk...  \n",
       "4535  Rock; Gospel/Religioso; Pop/Rock; Funk; Clássi...  \n",
       "5970  Pop/Rock; Rock; Pop; Rock Alternativo; MPB; Ro...  \n",
       "7290  Pop/Rock; Pop; Rock; Romântico; Funk; Black Mu...  \n",
       "5978  Pop/Rock; Rock; Pop; Rock Alternativo; MPB; Ro...  \n",
       "177   Rock; Pop/Rock; MPB; Romântico; Rock Alternati...  \n",
       "7302  Pop/Rock; Pop; Rock; Romântico; Funk; Black Mu...  \n",
       "282   Rock; Pop/Rock; Romântico; Punk Rock; New Wave...  "
      ]
     },
     "execution_count": 6,
     "metadata": {},
     "output_type": "execute_result"
    }
   ],
   "source": [
    "rock_lyrics = pd.read_csv('https://raw.githubusercontent.com/nazareno/palavras-nas-letras/master/letras-ptbr-rock-grande.csv')\n",
    "samba_lyrics = pd.read_csv('https://raw.githubusercontent.com/nazareno/palavras-nas-letras/master/letras-ptbr-samba-grande.csv')\n",
    "sertanejo_lyrics = pd.read_csv('https://raw.githubusercontent.com/nazareno/palavras-nas-letras/master/letras-ptbr-sertanejo-grande.csv')\n"
   ]
  },
  {
   "cell_type": "markdown",
   "metadata": {},
   "source": [
    "#### Observações iniciais\n",
    "Vamos começar realizando algumas observações superficiais de cada Dataframe, a partir dos métodos sample(), info() e value_counts() de artistas."
   ]
  },
  {
   "cell_type": "code",
   "execution_count": null,
   "metadata": {},
   "outputs": [],
   "source": [
    "samba_lyrics.sample(10)"
   ]
  },
  {
   "cell_type": "code",
   "execution_count": 13,
   "metadata": {},
   "outputs": [
    {
     "name": "stdout",
     "output_type": "stream",
     "text": [
      "<class 'pandas.core.frame.DataFrame'>\n",
      "RangeIndex: 8662 entries, 0 to 8661\n",
      "Data columns (total 7 columns):\n",
      " #   Column      Non-Null Count  Dtype  \n",
      "---  ------      --------------  -----  \n",
      " 0   SName       8662 non-null   object \n",
      " 1   Lyric       8662 non-null   object \n",
      " 2   Artist      8662 non-null   object \n",
      " 3   Songs       8662 non-null   int64  \n",
      " 4   Popularity  8662 non-null   float64\n",
      " 5   Genre       8662 non-null   object \n",
      " 6   Genres      8662 non-null   object \n",
      "dtypes: float64(1), int64(1), object(5)\n",
      "memory usage: 473.8+ KB\n"
     ]
    }
   ],
   "source": [
    "sertanejo_lyrics.info()"
   ]
  },
  {
   "cell_type": "code",
   "execution_count": 14,
   "metadata": {},
   "outputs": [
    {
     "data": {
      "text/plain": [
       "Lulu Santos                462\n",
       "Engenheiros do Hawaii      402\n",
       "Jota Quest                 296\n",
       "Skank                      290\n",
       "Rita Lee                   282\n",
       "Erasmo Carlos              236\n",
       "Cássia Eller               226\n",
       "Titãs                      209\n",
       "Charlie Brown Jr           198\n",
       "Raul Seixas                196\n",
       "Capital Inicial            195\n",
       "Biquini Cavadão            184\n",
       "Os Paralamas do Sucesso    181\n",
       "Barão Vermelho             164\n",
       "Velhas Virgens             156\n",
       "Fresno                     153\n",
       "Blitz                      150\n",
       "Pato Fu                    146\n",
       "Ira!                       142\n",
       "Rosa de Saron              137\n",
       "Name: Artist, dtype: int64"
      ]
     },
     "execution_count": 14,
     "metadata": {},
     "output_type": "execute_result"
    }
   ],
   "source": [
    "rock_lyrics['Artist'].value_counts()[0:20]"
   ]
  },
  {
   "cell_type": "markdown",
   "metadata": {},
   "source": [
    "#### Pré-processamento\n",
    "Faremos o pré-processamento dos textos das letras a partir da exclusão de caracteres especiais"
   ]
  },
  {
   "cell_type": "code",
   "execution_count": 15,
   "metadata": {},
   "outputs": [
    {
     "name": "stdout",
     "output_type": "stream",
     "text": [
      "204\n"
     ]
    }
   ],
   "source": [
    "stop_words = set(stopwords.words(\"portuguese\"))\n",
    "print(len(stop_words))"
   ]
  },
  {
   "cell_type": "code",
   "execution_count": 22,
   "metadata": {},
   "outputs": [
    {
     "data": {
      "text/plain": [
       "['Saudade Espero que logo logo vai passar Vontade Hoje quero matar com você Sempre que puder voltarei aqui Sempre que puder quero ver sorrir Felicidade vale tiver alguém pra dividir vou levar pra ver sol pra ver mar Andar meu caminho levo emoção pra acelerar meu coração Não quero estar sozinho vou levar pra ver sol pra ver mar Andar meu caminho levo emoção pra acelerar meu coração levo comigo aprendi usar solidão vivo bem comigo mesmo então Respeito com liberdade Onde estiver seja bem vinda agora você quiser Sempre que puder voltarei aqui Sempre que puder quero ver sorrir Felicidade vale tiver alguém pra dividir vou levar pra ver sol pra ver mar Andar meu caminho levo emoção pra acelerar meu coração Não quero estar sozinho vou levar pra ver sol pra ver mar Andar meu caminho levo emoção pra acelerar meu coração levo comigo vou levar pra ver sol pra ver mar Andar meu caminho levo emoção pra acelerar meu coração Não quero estar sozinho vou levar pra ver sol pra ver mar Andar meu caminho levo emoção pra acelerar meu coração levo comigo']"
      ]
     },
     "execution_count": 22,
     "metadata": {},
     "output_type": "execute_result"
    }
   ],
   "source": [
    "rock_lyrics_c = []\n",
    "samba_lyrics_c = []\n",
    "sertanejo_lyrics_c = []\n",
    "\n",
    "lyrics_list = [rock_lyrics, samba_lyrics, sertanejo_lyrics]\n",
    "cleaned_lyrics_list = [rock_lyrics_c, samba_lyrics_c, sertanejo_lyrics_c]\n",
    "\n",
    "for i in range(3):\n",
    "    lyrics_df = lyrics_list[i]\n",
    "    for j in range(len(lyrics_df.Lyric)):\n",
    "        lyric = lyrics_df['Lyric'][j]\n",
    "\n",
    "        # Removendo caracteres especiais\n",
    "        lyric = re.sub(\"(\\\\d|\\\\W)+|\\w*\\d\\w*\",\" \", lyric)\n",
    "        lyric = ' '.join(s for s in lyric.split() if (not any(c.isdigit() for c in s)) and len(s) > 2)\n",
    "        cleaned_lyrics_list[i].append(lyric)\n",
    "\n",
    "rock_lyrics_c[5:6]\n"
   ]
  },
  {
   "cell_type": "markdown",
   "metadata": {},
   "source": [
    "#### Criando vetores TF-IDF"
   ]
  },
  {
   "cell_type": "code",
   "execution_count": 24,
   "metadata": {},
   "outputs": [
    {
     "name": "stdout",
     "output_type": "stream",
     "text": [
      "8525 9228 16418\n"
     ]
    },
    {
     "name": "stderr",
     "output_type": "stream",
     "text": [
      "/home/mateus/anaconda3/lib/python3.8/site-packages/sklearn/utils/deprecation.py:87: FutureWarning: Function get_feature_names is deprecated; get_feature_names is deprecated in 1.0 and will be removed in 1.2. Please use get_feature_names_out instead.\n",
      "  warnings.warn(msg, category=FutureWarning)\n"
     ]
    }
   ],
   "source": [
    "#TF-IDF vectorizer\n",
    "tfv_rock = TfidfVectorizer(\n",
    "        min_df = 10,\n",
    "        max_df = 0.5,\n",
    "        max_features = None,\n",
    "        stop_words = stop_words, \n",
    "        ngram_range = (1,3)\n",
    "  )\n",
    "\n",
    "tfv_samba = TfidfVectorizer(\n",
    "        min_df = 10,\n",
    "        max_df = 0.5,\n",
    "        max_features = None,\n",
    "        stop_words = stop_words, \n",
    "        ngram_range = (1,3)\n",
    "  )\n",
    "\n",
    "tfv_sertanejo = TfidfVectorizer(\n",
    "        min_df = 10,\n",
    "        max_df = 0.5,\n",
    "        max_features = None,\n",
    "        stop_words = stop_words, \n",
    "        ngram_range = (1,3)\n",
    "  )\n",
    "\n",
    "\n",
    "\n",
    "#transform\n",
    "vec_text_rock = tfv1.fit_transform(rock_lyrics_c)\n",
    "vec_text_samba = tfv2.fit_transform(samba_lyrics_c)\n",
    "vec_text_sertanejo = tfv3.fit_transform(sertanejo_lyrics_c)\n",
    "\n",
    "#returns a list of words.\n",
    "rock_words = tfv1.get_feature_names()\n",
    "samba_words = tfv2.get_feature_names()\n",
    "sertanejo_words = tfv3.get_feature_names()\n",
    "\n",
    "print(len(rock_words), len(samba_words), len(sertanejo_words))"
   ]
  },
  {
   "cell_type": "code",
   "execution_count": null,
   "metadata": {},
   "outputs": [],
   "source": []
  }
 ],
 "metadata": {
  "interpreter": {
   "hash": "6d18f7ffe94d833a802e1e92f885f62e7089034dba63307a0ff62a007e26cd32"
  },
  "kernelspec": {
   "display_name": "Python 3.8.3 ('base')",
   "language": "python",
   "name": "python3"
  },
  "language_info": {
   "codemirror_mode": {
    "name": "ipython",
    "version": 3
   },
   "file_extension": ".py",
   "mimetype": "text/x-python",
   "name": "python",
   "nbconvert_exporter": "python",
   "pygments_lexer": "ipython3",
   "version": "3.8.3"
  },
  "orig_nbformat": 4
 },
 "nbformat": 4,
 "nbformat_minor": 2
}
